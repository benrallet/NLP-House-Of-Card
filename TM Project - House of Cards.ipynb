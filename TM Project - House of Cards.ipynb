{
 "cells": [
  {
   "cell_type": "markdown",
   "metadata": {},
   "source": [
    "# House of Cards project\n",
    "\n",
    "### Ideas :\n",
    "- Topic Modeling\n",
    "- Cloud of words\n",
    "- Comparison to real American politic"
   ]
  },
  {
   "cell_type": "markdown",
   "metadata": {},
   "source": [
    "## 1. Information Retrieval\n",
    "\n",
    "Get the scripts of the 13 episodes of the season 1"
   ]
  },
  {
   "cell_type": "code",
   "execution_count": 51,
   "metadata": {},
   "outputs": [],
   "source": [
    "# Imports\n",
    "import urllib.request\n",
    "import string\n",
    "import re\n",
    "import nltk\n",
    "from nltk.tokenize import word_tokenize, sent_tokenize\n",
    "from nltk.corpus import stopwords\n",
    "import nltk.stem"
   ]
  },
  {
   "cell_type": "markdown",
   "metadata": {},
   "source": [
    "#### Web scraping"
   ]
  },
  {
   "cell_type": "code",
   "execution_count": 1,
   "metadata": {
    "collapsed": true
   },
   "outputs": [],
   "source": [
    "# Main URL\n",
    "s1 = urllib.request.urlopen('https://www.springfieldspringfield.co.uk/episode_scripts.php?tv-show=house-of-cards-2013&season=1').read().decode('utf-8')"
   ]
  },
  {
   "cell_type": "code",
   "execution_count": 50,
   "metadata": {},
   "outputs": [],
   "source": [
    "# get the link of the script pages for all episodes of season 1\n",
    "\n",
    "links = re.compile(r'href=\\\"(view_episode_scripts\\.php\\?tv-show=house-of-cards-2013&episode=s01e.*?)\\\"')\n",
    "episodes_list = re.findall(links,x)\n",
    "episodes_list = list(set(episodes_list))\n",
    "episodes_list = ['https://www.springfieldspringfield.co.uk/{}'.format(link) for link in episodes_list]"
   ]
  },
  {
   "cell_type": "markdown",
   "metadata": {},
   "source": [
    "#### Pre-processing"
   ]
  },
  {
   "cell_type": "code",
   "execution_count": 48,
   "metadata": {},
   "outputs": [],
   "source": [
    "def get_content(link) :\n",
    "    page = urllib.request.urlopen(link).read().decode('utf-8')\n",
    "    script_reg = re.compile(r'<div class=\"episode_script\">.*?<div class=\"scrolling-script-container\">(.*?)<\\/div>.*?<\\/div>', re.DOTALL)\n",
    "    script = re.search(script_reg,page).group(1)\n",
    "    return script\n",
    "\n",
    "english_stemmer = nltk.stem.SnowballStemmer('english')\n",
    "stop = set(stopwords.words('english'))\n",
    "\n",
    "def pre_processing(script) :\n",
    "    script = re.sub('<.*?>', ' ', script) #remove the tags\n",
    "    script = re.sub('&.*?;', ' ', script) #remove the html symbols (ex: &amp;)\n",
    "    script = re.sub('['+string.punctuation+']', ' ', script) #remove ponctuation\n",
    "    \n",
    "    tokens = [ word for sent in sent_tokenize(script) for word in word_tokenize(sent) ] # tokenization\n",
    "    tokens = [ token.lower() for token in tokens ] # lowercase\n",
    "    tokens = [ token for token in tokens if token not in stop ] # stopwords )\n",
    "    tokens = [ english_stemmer.stem(token) for token in tokens ] # stem\n",
    "    \n",
    "    return tokens\n",
    "\n",
    "def create_doc(link) :\n",
    "    script = get_content(link)\n",
    "    tokens_script = pre_processing(script)\n",
    "    filename = '{}.txt'.format(re.search(r'(s01e.*?)$',link).group(1))\n",
    "    with open(filename, 'w') as f:\n",
    "        text = ' '.join(tokens_script)\n",
    "        print(text, file=f)"
   ]
  },
  {
   "cell_type": "code",
   "execution_count": 49,
   "metadata": {},
   "outputs": [],
   "source": [
    "# creation of .txt file containing the tokens (pre-processed for each episode of season 1)\n",
    "for episode in episodes_list :\n",
    "    create_doc(episode)"
   ]
  }
 ],
 "metadata": {
  "kernelspec": {
   "display_name": "Python 3",
   "language": "python",
   "name": "python3"
  },
  "language_info": {
   "codemirror_mode": {
    "name": "ipython",
    "version": 3
   },
   "file_extension": ".py",
   "mimetype": "text/x-python",
   "name": "python",
   "nbconvert_exporter": "python",
   "pygments_lexer": "ipython3",
   "version": "3.6.2"
  }
 },
 "nbformat": 4,
 "nbformat_minor": 2
}
